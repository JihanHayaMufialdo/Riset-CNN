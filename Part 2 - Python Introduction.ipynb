{
 "cells": [
  {
   "cell_type": "markdown",
   "id": "2b0b23c2",
   "metadata": {},
   "source": [
    "# Print"
   ]
  },
  {
   "cell_type": "code",
   "execution_count": 3,
   "id": "d5eba39e",
   "metadata": {},
   "outputs": [
    {
     "name": "stdout",
     "output_type": "stream",
     "text": [
      "aku lagi transit di Jakarta, A&W, Terminal 2 Soetta, 22/06/2023\n"
     ]
    }
   ],
   "source": [
    "print('aku lagi transit di Jakarta, A&W, Terminal 2 Soetta, 22/06/2023')"
   ]
  },
  {
   "cell_type": "markdown",
   "id": "4a807b98",
   "metadata": {},
   "source": [
    "# Variable"
   ]
  },
  {
   "cell_type": "code",
   "execution_count": 4,
   "id": "59172d56",
   "metadata": {},
   "outputs": [],
   "source": [
    "a=1"
   ]
  },
  {
   "cell_type": "code",
   "execution_count": 5,
   "id": "9946d680",
   "metadata": {},
   "outputs": [
    {
     "data": {
      "text/plain": [
       "1"
      ]
     },
     "execution_count": 5,
     "metadata": {},
     "output_type": "execute_result"
    }
   ],
   "source": [
    "a"
   ]
  },
  {
   "cell_type": "markdown",
   "id": "70296e90",
   "metadata": {},
   "source": [
    "# List"
   ]
  },
  {
   "cell_type": "code",
   "execution_count": 6,
   "id": "ec78b4fc",
   "metadata": {},
   "outputs": [],
   "source": [
    "a=[1,2,3,'wa']"
   ]
  },
  {
   "cell_type": "code",
   "execution_count": 7,
   "id": "55a7d636",
   "metadata": {},
   "outputs": [
    {
     "data": {
      "text/plain": [
       "[1, 2, 3, 'wa']"
      ]
     },
     "execution_count": 7,
     "metadata": {},
     "output_type": "execute_result"
    }
   ],
   "source": [
    "a"
   ]
  },
  {
   "cell_type": "code",
   "execution_count": 9,
   "id": "c6e95b77",
   "metadata": {},
   "outputs": [
    {
     "data": {
      "text/plain": [
       "'wa'"
      ]
     },
     "execution_count": 9,
     "metadata": {},
     "output_type": "execute_result"
    }
   ],
   "source": [
    "a[3]"
   ]
  },
  {
   "cell_type": "code",
   "execution_count": 10,
   "id": "90e68fac",
   "metadata": {},
   "outputs": [
    {
     "data": {
      "text/plain": [
       "3"
      ]
     },
     "execution_count": 10,
     "metadata": {},
     "output_type": "execute_result"
    }
   ],
   "source": [
    "a[-2]"
   ]
  },
  {
   "cell_type": "code",
   "execution_count": 11,
   "id": "fb52cef9",
   "metadata": {},
   "outputs": [
    {
     "data": {
      "text/plain": [
       "[1, 2, 3, 'wa', 'siu']"
      ]
     },
     "execution_count": 11,
     "metadata": {},
     "output_type": "execute_result"
    }
   ],
   "source": [
    "a.append('siu')\n",
    "a"
   ]
  },
  {
   "cell_type": "code",
   "execution_count": 12,
   "id": "15a7a855",
   "metadata": {},
   "outputs": [
    {
     "data": {
      "text/plain": [
       "5"
      ]
     },
     "execution_count": 12,
     "metadata": {},
     "output_type": "execute_result"
    }
   ],
   "source": [
    "len(a)"
   ]
  },
  {
   "cell_type": "markdown",
   "id": "b80619b8",
   "metadata": {},
   "source": [
    "# Slicing"
   ]
  },
  {
   "cell_type": "code",
   "execution_count": 16,
   "id": "9c7f0104",
   "metadata": {},
   "outputs": [],
   "source": [
    "# `inclusive`:`exclusive`:`step`"
   ]
  },
  {
   "cell_type": "code",
   "execution_count": 21,
   "id": "f165f39e",
   "metadata": {},
   "outputs": [],
   "source": [
    "a=[3,2,7,6,4,9,0]"
   ]
  },
  {
   "cell_type": "code",
   "execution_count": 22,
   "id": "434f4de5",
   "metadata": {},
   "outputs": [
    {
     "data": {
      "text/plain": [
       "[3, 2, 7, 6]"
      ]
     },
     "execution_count": 22,
     "metadata": {},
     "output_type": "execute_result"
    }
   ],
   "source": [
    "a[0:4]"
   ]
  },
  {
   "cell_type": "code",
   "execution_count": 23,
   "id": "a82b1a3f",
   "metadata": {},
   "outputs": [
    {
     "data": {
      "text/plain": [
       "[6, 4]"
      ]
     },
     "execution_count": 23,
     "metadata": {},
     "output_type": "execute_result"
    }
   ],
   "source": [
    "a[3:-2]"
   ]
  },
  {
   "cell_type": "code",
   "execution_count": 24,
   "id": "a8ee72fe",
   "metadata": {},
   "outputs": [
    {
     "data": {
      "text/plain": [
       "[3, 7, 4, 0]"
      ]
     },
     "execution_count": 24,
     "metadata": {},
     "output_type": "execute_result"
    }
   ],
   "source": [
    "a[::2]"
   ]
  },
  {
   "cell_type": "code",
   "execution_count": 25,
   "id": "f41f8d5f",
   "metadata": {},
   "outputs": [
    {
     "data": {
      "text/plain": [
       "[0, 9, 4, 6, 7, 2, 3]"
      ]
     },
     "execution_count": 25,
     "metadata": {},
     "output_type": "execute_result"
    }
   ],
   "source": [
    "a[::-1]"
   ]
  },
  {
   "cell_type": "markdown",
   "id": "99f06e32",
   "metadata": {},
   "source": [
    "# Join & Split"
   ]
  },
  {
   "cell_type": "code",
   "execution_count": 26,
   "id": "66e15f4d",
   "metadata": {},
   "outputs": [],
   "source": [
    "b=['cicak','cacing','capung']"
   ]
  },
  {
   "cell_type": "code",
   "execution_count": 31,
   "id": "ec6ffb81",
   "metadata": {},
   "outputs": [
    {
     "data": {
      "text/plain": [
       "'cicak, cacing, capung'"
      ]
     },
     "execution_count": 31,
     "metadata": {},
     "output_type": "execute_result"
    }
   ],
   "source": [
    "', '.join(b)"
   ]
  },
  {
   "cell_type": "code",
   "execution_count": 32,
   "id": "f7995eba",
   "metadata": {},
   "outputs": [],
   "source": [
    "b='hari ini kayanya mendung'"
   ]
  },
  {
   "cell_type": "code",
   "execution_count": 33,
   "id": "408fe5f0",
   "metadata": {},
   "outputs": [
    {
     "data": {
      "text/plain": [
       "['hari', 'ini', 'kayanya', 'mendung']"
      ]
     },
     "execution_count": 33,
     "metadata": {},
     "output_type": "execute_result"
    }
   ],
   "source": [
    "b.split()"
   ]
  },
  {
   "cell_type": "code",
   "execution_count": 34,
   "id": "dabcda43",
   "metadata": {},
   "outputs": [],
   "source": [
    "a='hari ini, saya pulang'"
   ]
  },
  {
   "cell_type": "code",
   "execution_count": 35,
   "id": "59a568e0",
   "metadata": {},
   "outputs": [
    {
     "data": {
      "text/plain": [
       "['hari ini', ' saya pulang']"
      ]
     },
     "execution_count": 35,
     "metadata": {},
     "output_type": "execute_result"
    }
   ],
   "source": [
    "a.split(',')"
   ]
  },
  {
   "cell_type": "markdown",
   "id": "a282ad0b",
   "metadata": {},
   "source": [
    "# Dictionary"
   ]
  },
  {
   "cell_type": "code",
   "execution_count": 42,
   "id": "20b1ef17",
   "metadata": {},
   "outputs": [],
   "source": [
    "a={1:['a&w','kfc','mcd'],2:['cola','sprite','fanta'],3:['lion','wings','batik']}"
   ]
  },
  {
   "cell_type": "code",
   "execution_count": 44,
   "id": "7679ca5f",
   "metadata": {},
   "outputs": [
    {
     "data": {
      "text/plain": [
       "'fanta'"
      ]
     },
     "execution_count": 44,
     "metadata": {},
     "output_type": "execute_result"
    }
   ],
   "source": [
    "a[2][2]"
   ]
  },
  {
   "cell_type": "code",
   "execution_count": 45,
   "id": "18e4c13c",
   "metadata": {},
   "outputs": [],
   "source": [
    "a[4]=['asus','hp','lenovo']"
   ]
  },
  {
   "cell_type": "code",
   "execution_count": 46,
   "id": "26315d84",
   "metadata": {},
   "outputs": [
    {
     "data": {
      "text/plain": [
       "{1: ['a&w', 'kfc', 'mcd'],\n",
       " 2: ['cola', 'sprite', 'fanta'],\n",
       " 3: ['lion', 'wings', 'batik'],\n",
       " 4: ['asus', 'hp', 'lenovo']}"
      ]
     },
     "execution_count": 46,
     "metadata": {},
     "output_type": "execute_result"
    }
   ],
   "source": [
    "a"
   ]
  },
  {
   "cell_type": "code",
   "execution_count": 47,
   "id": "dfe9901a",
   "metadata": {},
   "outputs": [
    {
     "data": {
      "text/plain": [
       "dict_keys([1, 2, 3, 4])"
      ]
     },
     "execution_count": 47,
     "metadata": {},
     "output_type": "execute_result"
    }
   ],
   "source": [
    "a.keys()"
   ]
  },
  {
   "cell_type": "code",
   "execution_count": 48,
   "id": "531b0df3",
   "metadata": {},
   "outputs": [
    {
     "data": {
      "text/plain": [
       "dict_values([['a&w', 'kfc', 'mcd'], ['cola', 'sprite', 'fanta'], ['lion', 'wings', 'batik'], ['asus', 'hp', 'lenovo']])"
      ]
     },
     "execution_count": 48,
     "metadata": {},
     "output_type": "execute_result"
    }
   ],
   "source": [
    "a.values()"
   ]
  },
  {
   "cell_type": "markdown",
   "id": "60d71f09",
   "metadata": {},
   "source": [
    "# Fungsi"
   ]
  },
  {
   "cell_type": "code",
   "execution_count": 50,
   "id": "1a51643c",
   "metadata": {},
   "outputs": [
    {
     "data": {
      "text/plain": [
       "14"
      ]
     },
     "execution_count": 50,
     "metadata": {},
     "output_type": "execute_result"
    }
   ],
   "source": [
    "def jumlah(a,b) :\n",
    "    return a+b\n",
    "\n",
    "jumlah(9,5)"
   ]
  },
  {
   "cell_type": "markdown",
   "id": "25ea639d",
   "metadata": {},
   "source": [
    "# Conditionals"
   ]
  },
  {
   "cell_type": "code",
   "execution_count": 51,
   "id": "b271b47d",
   "metadata": {},
   "outputs": [],
   "source": [
    "score=76"
   ]
  },
  {
   "cell_type": "code",
   "execution_count": 58,
   "id": "99b48dcc",
   "metadata": {},
   "outputs": [
    {
     "name": "stdout",
     "output_type": "stream",
     "text": [
      "A\n"
     ]
    }
   ],
   "source": [
    "def nilai(score):\n",
    "    if score>=76 :\n",
    "        print('A')\n",
    "    elif score>=71 :\n",
    "        print('B+')\n",
    "    elif score>=66 :\n",
    "        print('B')\n",
    "nilai(score)"
   ]
  },
  {
   "cell_type": "markdown",
   "id": "9b6ccc7c",
   "metadata": {},
   "source": [
    "# Iterasi"
   ]
  },
  {
   "cell_type": "code",
   "execution_count": 54,
   "id": "ba8af5cd",
   "metadata": {},
   "outputs": [],
   "source": [
    "numbers=[1,2,3,4,5,6]"
   ]
  },
  {
   "cell_type": "code",
   "execution_count": 55,
   "id": "26bede28",
   "metadata": {},
   "outputs": [
    {
     "name": "stdout",
     "output_type": "stream",
     "text": [
      "1\n",
      "2\n",
      "3\n",
      "4\n",
      "5\n",
      "6\n"
     ]
    }
   ],
   "source": [
    "for n in numbers :\n",
    "    print(n)"
   ]
  },
  {
   "cell_type": "code",
   "execution_count": 59,
   "id": "8dd704f1",
   "metadata": {},
   "outputs": [
    {
     "name": "stdout",
     "output_type": "stream",
     "text": [
      "A\n",
      "B\n",
      "B+\n"
     ]
    }
   ],
   "source": [
    "for score in (90,66,75) :\n",
    "    nilai(score)"
   ]
  },
  {
   "cell_type": "code",
   "execution_count": 60,
   "id": "ddc6528d",
   "metadata": {},
   "outputs": [],
   "source": [
    "animals=['ikan','kucing','semut']"
   ]
  },
  {
   "cell_type": "code",
   "execution_count": 62,
   "id": "3e331dda",
   "metadata": {},
   "outputs": [
    {
     "name": "stdout",
     "output_type": "stream",
     "text": [
      "IKAN\n",
      "KUCING\n",
      "SEMUT\n"
     ]
    }
   ],
   "source": [
    "for animal in animals :\n",
    "    print(animal.upper())"
   ]
  },
  {
   "cell_type": "code",
   "execution_count": 65,
   "id": "6c800eba",
   "metadata": {},
   "outputs": [
    {
     "name": "stdout",
     "output_type": "stream",
     "text": [
      "1\n",
      "2\n",
      "3\n",
      "4\n",
      "5\n",
      "6\n"
     ]
    }
   ],
   "source": [
    "for i in range(len(numbers)) :\n",
    "    print(numbers[i])"
   ]
  },
  {
   "cell_type": "code",
   "execution_count": 67,
   "id": "37988c2e",
   "metadata": {},
   "outputs": [
    {
     "name": "stdout",
     "output_type": "stream",
     "text": [
      "koentji 1 isinya ['a&w', 'kfc', 'mcd']\n",
      "koentji 2 isinya ['cola', 'sprite', 'fanta']\n",
      "koentji 3 isinya ['lion', 'wings', 'batik']\n",
      "koentji 4 isinya ['asus', 'hp', 'lenovo']\n"
     ]
    }
   ],
   "source": [
    "for key in a.keys():\n",
    "    print(f'koentji {key} isinya {a[key]}')"
   ]
  },
  {
   "cell_type": "markdown",
   "id": "7d2e73d2",
   "metadata": {},
   "source": [
    "# Python Comprehension"
   ]
  },
  {
   "cell_type": "code",
   "execution_count": 72,
   "id": "236b0b8f",
   "metadata": {},
   "outputs": [
    {
     "data": {
      "text/plain": [
       "[0, 1, 4, 9, 16]"
      ]
     },
     "execution_count": 72,
     "metadata": {},
     "output_type": "execute_result"
    }
   ],
   "source": [
    "# a=[]\n",
    "# for i in range(5):\n",
    "#     a.appens(i**2)\n",
    "\n",
    "a = [i**2 for i in range(5)]\n",
    "a"
   ]
  },
  {
   "cell_type": "code",
   "execution_count": 74,
   "id": "3f117bec",
   "metadata": {},
   "outputs": [
    {
     "data": {
      "text/plain": [
       "[{1: 1, 2: 8, 3: 27}]"
      ]
     },
     "execution_count": 74,
     "metadata": {},
     "output_type": "execute_result"
    }
   ],
   "source": [
    "b = [{i:i**3 for i in range(1,4)}]\n",
    "b"
   ]
  },
  {
   "cell_type": "code",
   "execution_count": 75,
   "id": "b68a14b5",
   "metadata": {},
   "outputs": [
    {
     "data": {
      "text/plain": [
       "{1, 2, 3, 4, 6}"
      ]
     },
     "execution_count": 75,
     "metadata": {},
     "output_type": "execute_result"
    }
   ],
   "source": [
    "c = {1,1,4,3,2,4,6}\n",
    "c"
   ]
  },
  {
   "cell_type": "code",
   "execution_count": null,
   "id": "b0e41189",
   "metadata": {},
   "outputs": [],
   "source": []
  }
 ],
 "metadata": {
  "kernelspec": {
   "display_name": "Python 3 (ipykernel)",
   "language": "python",
   "name": "python3"
  },
  "language_info": {
   "codemirror_mode": {
    "name": "ipython",
    "version": 3
   },
   "file_extension": ".py",
   "mimetype": "text/x-python",
   "name": "python",
   "nbconvert_exporter": "python",
   "pygments_lexer": "ipython3",
   "version": "3.9.16"
  }
 },
 "nbformat": 4,
 "nbformat_minor": 5
}
